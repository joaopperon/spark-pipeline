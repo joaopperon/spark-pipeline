{
 "cells": [
  {
   "cell_type": "code",
   "execution_count": 1,
   "id": "9ef21ab3",
   "metadata": {},
   "outputs": [],
   "source": [
    "import os\n",
    "from pathlib import Path\n",
    "from dotenv import load_dotenv\n",
    "from pyspark.sql import SparkSession\n",
    "from azure.storage.blob import BlobServiceClient"
   ]
  },
  {
   "cell_type": "code",
   "execution_count": 2,
   "id": "ada164e8",
   "metadata": {},
   "outputs": [],
   "source": [
    "def load_enviroment():\n",
    "    # Enviroment variables loader that works both locally and in DataBricks.\n",
    "    absolute_path = Path.absolute(Path(os.getcwd()))\n",
    "\n",
    "    for parent in absolute_path.parents:\n",
    "        if str(parent).endswith(\"spark-pipeline\"):\n",
    "            repo_path = parent\n",
    "            break\n",
    "\n",
    "    enviroment_variable_path = os.path.join(repo_path, \"config\", \".env\")\n",
    "\n",
    "    load_dotenv(enviroment_variable_path)"
   ]
  },
  {
   "cell_type": "code",
   "execution_count": 3,
   "id": "f2800a9c",
   "metadata": {},
   "outputs": [],
   "source": [
    "load_enviroment()\n",
    "\n",
    "KAGGLE_FILE = os.environ[\"KAGGLE_FILE\"]\n",
    "BRONZE_CONTAINER = os.environ[\"BRONZE_CONTAINER\"]\n",
    "SILVER_CONTAINER = os.environ[\"SILVER_CONTAINER\"]\n",
    "AZURE_STORAGE_ACCOUNT = os.environ[\"AZURE_STORAGE_ACCOUNT\"]\n",
    "AZURE_STORAGE_ACCOUNT_KEY = os.environ[\"AZURE_STORAGE_ACCOUNT_KEY\"]"
   ]
  },
  {
   "cell_type": "code",
   "execution_count": 4,
   "id": "36096063",
   "metadata": {},
   "outputs": [],
   "source": [
    "spark = SparkSession.builder.appName(\"AzureBlobCSVLoader\").getOrCreate()\n",
    "spark.conf.set(\n",
    "    f\"fs.azure.account.key.{AZURE_STORAGE_ACCOUNT}.blob.core.windows.net\",\n",
    "    AZURE_STORAGE_ACCOUNT_KEY\n",
    ")"
   ]
  },
  {
   "cell_type": "code",
   "execution_count": null,
   "id": "53883727",
   "metadata": {},
   "outputs": [],
   "source": [
    "wasbs_path = f\"wasbs://{BRONZE_CONTAINER}@{AZURE_STORAGE_ACCOUNT}.blob.core.windows.net/{KAGGLE_FILE}\"\n",
    "df = spark.read.format(\"csv\").option(\"header\", \"true\").option(\"inferSchema\", \"true\").load(wasbs_path)"
   ]
  },
  {
   "cell_type": "code",
   "execution_count": null,
   "id": "2942d317",
   "metadata": {},
   "outputs": [],
   "source": [
    "df.show()"
   ]
  }
 ],
 "metadata": {
  "kernelspec": {
   "display_name": ".venv",
   "language": "python",
   "name": "python3"
  },
  "language_info": {
   "codemirror_mode": {
    "name": "ipython",
    "version": 3
   },
   "file_extension": ".py",
   "mimetype": "text/x-python",
   "name": "python",
   "nbconvert_exporter": "python",
   "pygments_lexer": "ipython3",
   "version": "3.13.0"
  }
 },
 "nbformat": 4,
 "nbformat_minor": 5
}
