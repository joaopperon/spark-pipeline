{
 "cells": [
  {
   "cell_type": "markdown",
   "id": "509eb8f6",
   "metadata": {},
   "source": [
    "### Script Overview\n",
    "\n",
    "This notebook extracts a dataset from Kaggle, saves it as an in-memory CSV, and uploads it to Azure Blob Storage, using environment variables for configuration and supporting both local and Databricks environment"
   ]
  },
  {
   "cell_type": "code",
   "execution_count": null,
   "id": "e4fb2f77",
   "metadata": {},
   "outputs": [],
   "source": [
    "import io\n",
    "import os\n",
    "import kagglehub\n",
    "from pathlib import Path\n",
    "from dotenv import load_dotenv\n",
    "from kagglehub import KaggleDatasetAdapter\n",
    "from azure.storage.blob import BlobServiceClient\n"
   ]
  },
  {
   "cell_type": "code",
   "execution_count": null,
   "id": "5edfe59a",
   "metadata": {},
   "outputs": [],
   "source": [
    "# Enviroment variables loader that works both locally and in DataBricks.\n",
    "absolute_path = Path.absolute(Path(os.getcwd()))\n",
    "\n",
    "for parent in absolute_path.parents:\n",
    "    if str(parent).endswith(\"spark-pipeline\"):\n",
    "        repo_path = parent\n",
    "        break\n",
    "\n",
    "enviroment_variable_path = os.path.join(repo_path, \"config\", \".env\")\n",
    "\n",
    "load_dotenv(enviroment_variable_path)"
   ]
  },
  {
   "cell_type": "code",
   "execution_count": null,
   "id": "31163d83",
   "metadata": {},
   "outputs": [],
   "source": [
    "# Used enviroment variables\n",
    "KAGGLE_FILE = os.environ[\"KAGGLE_FILE\"]\n",
    "KAGGLE_HANDLE = os.environ[\"KAGGLE_HANDLE\"]\n",
    "\n",
    "AZURE_BLOB_STORAGE_CONTAINER = os.environ[\"AZURE_BLOB_STORAGE_CONTAINER\"]\n",
    "AZURE_STORAGE_ACCOUNT_CONNECTION_STRING = os.environ[\"AZURE_STORAGE_ACCOUNT_CONNECTION_STRING\"]\n"
   ]
  },
  {
   "cell_type": "code",
   "execution_count": null,
   "id": "ba823a08",
   "metadata": {},
   "outputs": [],
   "source": [
    "# Extracting dataset from KaggleHub\n",
    "df = kagglehub.load_dataset(\n",
    "    adapter=KaggleDatasetAdapter.PANDAS,\n",
    "    handle=KAGGLE_HANDLE,\n",
    "    path=KAGGLE_FILE,\n",
    ")\n",
    "\n",
    "csv_data = io.BytesIO()\n",
    "df.to_csv(csv_data)\n",
    "csv_data.seek(0)"
   ]
  },
  {
   "cell_type": "code",
   "execution_count": null,
   "id": "0a3a4d2f",
   "metadata": {},
   "outputs": [],
   "source": [
    "# Creating clients for the blob storage service and the desired container\n",
    "blob_client = BlobServiceClient.from_connection_string(conn_str=AZURE_STORAGE_ACCOUNT_CONNECTION_STRING)\n",
    "container_client = blob_client.get_container_client(container=AZURE_BLOB_STORAGE_CONTAINER)"
   ]
  },
  {
   "cell_type": "code",
   "execution_count": null,
   "id": "a614e783",
   "metadata": {},
   "outputs": [],
   "source": [
    "# Uploading the .csv file into the desired container\n",
    "container_client.upload_blob(name=KAGGLE_FILE, data=csv_data.getvalue(), overwrite=True)"
   ]
  }
 ],
 "metadata": {
  "kernelspec": {
   "display_name": ".venv",
   "language": "python",
   "name": "python3"
  },
  "language_info": {
   "codemirror_mode": {
    "name": "ipython",
    "version": 3
   },
   "file_extension": ".py",
   "mimetype": "text/x-python",
   "name": "python",
   "nbconvert_exporter": "python",
   "pygments_lexer": "ipython3",
   "version": "3.13.0"
  }
 },
 "nbformat": 4,
 "nbformat_minor": 5
}
