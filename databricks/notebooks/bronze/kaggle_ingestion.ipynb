{
 "cells": [
  {
   "cell_type": "markdown",
   "id": "509eb8f6",
   "metadata": {},
   "source": []
  },
  {
   "cell_type": "code",
   "execution_count": 40,
   "id": "e4fb2f77",
   "metadata": {},
   "outputs": [],
   "source": [
    "import os\n",
    "import kagglehub\n",
    "from pathlib import Path\n",
    "from dotenv import load_dotenv"
   ]
  },
  {
   "cell_type": "code",
   "execution_count": 44,
   "id": "5edfe59a",
   "metadata": {},
   "outputs": [
    {
     "name": "stdout",
     "output_type": "stream",
     "text": [
      "c:\\Users\\joaop\\Desktop\\Projetos\\spark-pipeline\\databricks\\notebooks\\bronze\n"
     ]
    }
   ],
   "source": [
    "path = Path.absolute(Path(os.getcwd()))\n",
    "\n",
    "print(path)"
   ]
  },
  {
   "cell_type": "code",
   "execution_count": 8,
   "id": "ba823a08",
   "metadata": {},
   "outputs": [
    {
     "name": "stderr",
     "output_type": "stream",
     "text": [
      "C:\\Users\\joaop\\AppData\\Local\\Temp\\ipykernel_15532\\4001153055.py:1: DeprecationWarning: load_dataset is deprecated and will be removed in a future version.\n",
      "  df = kagglehub.load_dataset(\n"
     ]
    },
    {
     "name": "stdout",
     "output_type": "stream",
     "text": [
      "Downloading from https://www.kaggle.com/api/v1/datasets/download/flynn28/v2-nba-player-database?dataset_version_number=1&file_name=NBA_PLAYERS.csv...\n"
     ]
    },
    {
     "name": "stderr",
     "output_type": "stream",
     "text": [
      "100%|██████████| 702k/702k [00:00<00:00, 979kB/s]\n"
     ]
    }
   ],
   "source": [
    "df = kagglehub.load_dataset(\n",
    "    adapter=kagglehub.KaggleDatasetAdapter.PANDAS,\n",
    "    handle=\"flynn28/v2-nba-player-database\",\n",
    "    path=\"NBA_PLAYERS.csv\"\n",
    ")"
   ]
  }
 ],
 "metadata": {
  "kernelspec": {
   "display_name": ".venv",
   "language": "python",
   "name": "python3"
  },
  "language_info": {
   "codemirror_mode": {
    "name": "ipython",
    "version": 3
   },
   "file_extension": ".py",
   "mimetype": "text/x-python",
   "name": "python",
   "nbconvert_exporter": "python",
   "pygments_lexer": "ipython3",
   "version": "3.13.0"
  }
 },
 "nbformat": 4,
 "nbformat_minor": 5
}
